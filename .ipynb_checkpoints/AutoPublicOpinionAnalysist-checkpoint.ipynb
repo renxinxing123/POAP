{
 "cells": [
  {
   "cell_type": "code",
   "execution_count": 1,
   "id": "efdadf6d-c2c6-440f-88ef-84f019f91de9",
   "metadata": {},
   "outputs": [],
   "source": [
    "from utils import *"
   ]
  },
  {
   "cell_type": "code",
   "execution_count": 2,
   "id": "917a0af9-cadb-4921-a093-a2ae14bfd6a7",
   "metadata": {},
   "outputs": [
    {
     "ename": "NameError",
     "evalue": "name 'Coordinator' is not defined",
     "output_type": "error",
     "traceback": [
      "\u001b[0;31m---------------------------------------------------------------------------\u001b[0m",
      "\u001b[0;31mNameError\u001b[0m                                 Traceback (most recent call last)",
      "Cell \u001b[0;32mIn[2], line 3\u001b[0m\n\u001b[1;32m      1\u001b[0m \u001b[38;5;28;01mif\u001b[39;00m \u001b[38;5;18m__name__\u001b[39m \u001b[38;5;241m==\u001b[39m \u001b[38;5;124m\"\u001b[39m\u001b[38;5;124m__main__\u001b[39m\u001b[38;5;124m\"\u001b[39m:\n\u001b[1;32m      2\u001b[0m     \u001b[38;5;66;03m# 第一步：对话获取参数，并启动微博爬虫\u001b[39;00m\n\u001b[0;32m----> 3\u001b[0m     csv_file, event_keywords \u001b[38;5;241m=\u001b[39m \u001b[43mconversation_loop\u001b[49m\u001b[43m(\u001b[49m\u001b[43m)\u001b[49m\n\u001b[1;32m      5\u001b[0m     \u001b[38;5;28;01mif\u001b[39;00m os\u001b[38;5;241m.\u001b[39mpath\u001b[38;5;241m.\u001b[39mexists(csv_file):\n\u001b[1;32m      6\u001b[0m         \u001b[38;5;66;03m# 第二步：进行情感分析，累计情感统计\u001b[39;00m\n\u001b[1;32m      7\u001b[0m         sentiment_counts, sentiment_output \u001b[38;5;241m=\u001b[39m perform_sentiment_analysis(csv_file)\n",
      "File \u001b[0;32m~/public opinion/utils.py:101\u001b[0m, in \u001b[0;36mconversation_loop\u001b[0;34m()\u001b[0m\n\u001b[1;32m     96\u001b[0m \u001b[38;5;28;01mdef\u001b[39;00m\u001b[38;5;250m \u001b[39m\u001b[38;5;21mconversation_loop\u001b[39m():\n\u001b[1;32m     97\u001b[0m \u001b[38;5;250m    \u001b[39m\u001b[38;5;124;03m\"\"\"\u001b[39;00m\n\u001b[1;32m     98\u001b[0m \u001b[38;5;124;03m    与用户持续对话，直到 agent 返回包含所有必需信息的 JSON 格式回复，\u001b[39;00m\n\u001b[1;32m     99\u001b[0m \u001b[38;5;124;03m    此时调用微博爬虫，并返回生成的 CSV 文件名和事件关键字。\u001b[39;00m\n\u001b[1;32m    100\u001b[0m \u001b[38;5;124;03m    \"\"\"\u001b[39;00m\n\u001b[0;32m--> 101\u001b[0m     coordinator \u001b[38;5;241m=\u001b[39m \u001b[43mCoordinator\u001b[49m(prompt_filepath\u001b[38;5;241m=\u001b[39m\u001b[38;5;124m'\u001b[39m\u001b[38;5;124m./prompts/Coordinator_prompt.txt\u001b[39m\u001b[38;5;124m'\u001b[39m)\n\u001b[1;32m    103\u001b[0m     \u001b[38;5;28;01mwhile\u001b[39;00m \u001b[38;5;28;01mTrue\u001b[39;00m:\n\u001b[1;32m    104\u001b[0m         user_text \u001b[38;5;241m=\u001b[39m \u001b[38;5;28minput\u001b[39m(\u001b[38;5;124m\"\u001b[39m\u001b[38;5;124m请输入查询内容：\u001b[39m\u001b[38;5;124m\"\u001b[39m)\n",
      "\u001b[0;31mNameError\u001b[0m: name 'Coordinator' is not defined"
     ]
    }
   ],
   "source": [
    "if __name__ == \"__main__\":\n",
    "    # 第一步：对话获取参数，并启动微博爬虫\n",
    "    csv_file, event_keywords = conversation_loop()\n",
    "    \n",
    "    if os.path.exists(csv_file):\n",
    "        # 第二步：进行情感分析，累计情感统计\n",
    "        sentiment_counts, sentiment_output = perform_sentiment_analysis(csv_file)\n",
    "        topic_counts, topic_output = perform_topic_analysis(csv_file)\n",
    "        # 第三步：生成事件总结并调用 Summarizer 生成最终总结\n",
    "        sentiment_summary = summarize_sentiment_event(event_keywords, sentiment_counts)\n",
    "        topic_summary = summarize_topic_event(event_keywords, topic_counts)\n",
    "        print(\"sentiment总结回复：\", sentiment_summary)\n",
    "        print(\"topic总结回复：\", topic_summary)\n",
    "\n",
    "        merged_analysis = merge_and_analyze(sentiment_output, topic_output)\n",
    "        summary = summarize_event(event_keywords, sentiment_summary, topic_counts, merged_analysis.to_string())\n",
    "        print(\"综合分析回复：\", summary)\n",
    "\n",
    "        \n",
    "    else:\n",
    "        print(\"爬虫生成的 CSV 文件不存在，请检查。\")"
   ]
  },
  {
   "cell_type": "code",
   "execution_count": null,
   "id": "7e8004ed-6017-4040-9bb9-9fd30def6244",
   "metadata": {},
   "outputs": [],
   "source": []
  }
 ],
 "metadata": {
  "kernelspec": {
   "display_name": "Python 3 (ipykernel)",
   "language": "python",
   "name": "python3"
  },
  "language_info": {
   "codemirror_mode": {
    "name": "ipython",
    "version": 3
   },
   "file_extension": ".py",
   "mimetype": "text/x-python",
   "name": "python",
   "nbconvert_exporter": "python",
   "pygments_lexer": "ipython3",
   "version": "3.10.14"
  }
 },
 "nbformat": 4,
 "nbformat_minor": 5
}
